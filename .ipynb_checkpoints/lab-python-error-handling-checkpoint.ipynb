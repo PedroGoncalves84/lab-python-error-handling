{
 "cells": [
  {
   "cell_type": "code",
   "execution_count": 74,
   "id": "f5aa041f-e435-45a1-82a7-91e3abb8dd87",
   "metadata": {},
   "outputs": [],
   "source": [
    "def initialize_inventory(products):\n",
    "    inventory = {product: int(input(f\"Enter the quantity of {product}s available: \")) for product in products}\n",
    "    return inventory"
   ]
  },
  {
   "cell_type": "code",
   "execution_count": 75,
   "id": "7955e9e5-2637-4e32-8e61-1cf996474b1c",
   "metadata": {},
   "outputs": [],
   "source": [
    "def get_customer_orders(inventory):\n",
    "    orders = []\n",
    "    \n",
    "    while True:\n",
    "        try:\n",
    "            num_orders = input(\"Enter the number of orders: \")\n",
    "            num_orders = int(num_orders)\n",
    "            \n",
    "            if num_orders < 0:\n",
    "                print(\"Error: Number of orders cannot be negative. Please enter a valid number.\")\n",
    "            else:\n",
    "                break\n",
    "        except ValueError:\n",
    "            print(\"Error: Invalid input. Please enter a valid number of orders.\")\n",
    "    \n",
    "    for i in range(num_orders):\n",
    "        while True:\n",
    "            product_name = input(f\"Enter the name of product #{i+1}: \").strip()\n",
    "            \n",
    "            if product_name not in inventory:\n",
    "                print(\"Error: Product not found in inventory. Please enter a valid product name.\")\n",
    "            elif inventory[product_name] <= 0:\n",
    "                print(\"Error: Product is out of stock. Please enter a different product.\")\n",
    "            else:\n",
    "                quantity = input(f\"Enter the quantity of {product_name}: \")\n",
    "                \n",
    "                try:\n",
    "                    quantity = int(quantity)\n",
    "                    \n",
    "                    if quantity <= 0:\n",
    "                        print(\"Error: Quantity must be a positive number. Please try again.\")\n",
    "                    elif quantity > inventory[product_name]:\n",
    "                        print(f\"Error: Insufficient stock. Only {inventory[product_name]} available.\")\n",
    "                    else:\n",
    "                        price = input(f\"Enter the price of {product_name}: $\")\n",
    "                        \n",
    "                        try:\n",
    "                            price = float(price)\n",
    "                            if price < 0:\n",
    "                                print(\"Error: Price cannot be negative. Please enter a valid price.\")\n",
    "                            else:\n",
    "                                orders.append((product_name, quantity, price))\n",
    "                                inventory[product_name] -= quantity \n",
    "                                break\n",
    "                        except ValueError:\n",
    "                            print(\"Error: Invalid price. Please enter a valid numeric price.\")\n",
    "                except ValueError:\n",
    "                    print(\"Error: Invalid quantity. Please enter a valid number.\")\n",
    "    \n",
    "    return orders\n"
   ]
  },
  {
   "cell_type": "code",
   "execution_count": 76,
   "id": "740c3ca8-4599-44e5-8a0b-a93b4daca59a",
   "metadata": {},
   "outputs": [],
   "source": [
    "def calculate_total_price(orders):\n",
    "    total_price = 0\n",
    "    for product, quantity, price in orders:\n",
    "        total_price += price * quantity\n",
    "    return total_price"
   ]
  },
  {
   "cell_type": "code",
   "execution_count": 77,
   "id": "c43d9806-bdd5-4ee2-9614-984b392b89b3",
   "metadata": {},
   "outputs": [],
   "source": [
    "def update_inventory(inventory, customer_orders):\n",
    "    for product, quantity, _ in customer_orders:\n",
    "        inventory[product] -= quantity  \n",
    "    return inventory\n"
   ]
  },
  {
   "cell_type": "code",
   "execution_count": 78,
   "id": "25dda53c-68f6-430c-81bc-97cc81bb7e75",
   "metadata": {},
   "outputs": [],
   "source": [
    "def calculate_order_statistics(customer_orders, products):\n",
    "    total_ordered = len(customer_orders)\n",
    "    total_products = len(products)\n",
    "    percentage_unique = (total_ordered / total_products) * 100 if total_products > 0 else 0\n",
    "    return total_ordered, percentage_unique"
   ]
  },
  {
   "cell_type": "code",
   "execution_count": 79,
   "id": "6056fe2b-be8e-4aa7-89b4-9518e2e2db31",
   "metadata": {},
   "outputs": [],
   "source": [
    "def print_order_statistics(order_statistics):\n",
    "    total_ordered, percentage_unique = order_statistics\n",
    "    print(\"Order Statistics:\")\n",
    "    print(f\"Total unique products ordered: {total_ordered}\")\n",
    "    print(f\"Percentage of unique products ordered: {percentage_unique:.2f}%\")"
   ]
  },
  {
   "cell_type": "code",
   "execution_count": 80,
   "id": "65ccecc6-b20c-478c-8254-ee8ee4ca8da8",
   "metadata": {},
   "outputs": [],
   "source": [
    "def print_updated_inventory(inventory):\n",
    "    print(\"Updated Inventory:\")\n",
    "    for product, quantity in inventory.items():\n",
    "        print(f\"{product}: {quantity}\")"
   ]
  },
  {
   "cell_type": "code",
   "execution_count": 81,
   "id": "474f61e5-00a1-4870-b4ee-9056ff1d5877",
   "metadata": {},
   "outputs": [
    {
     "name": "stdin",
     "output_type": "stream",
     "text": [
      "Enter the quantity of t-shirts available:  0\n",
      "Enter the quantity of mugs available:  9\n",
      "Enter the quantity of hats available:  8\n",
      "Enter the quantity of books available:  7\n",
      "Enter the quantity of keychains available:  6\n",
      "Enter the number of orders:  2\n",
      "Enter the name of product #1:  mug\n",
      "Enter the quantity of mug:  2\n",
      "Enter the price of mug: $ 2\n",
      "Enter the name of product #2:  hat\n",
      "Enter the quantity of hat:  8\n",
      "Enter the price of hat: $ 5\n"
     ]
    },
    {
     "name": "stdout",
     "output_type": "stream",
     "text": [
      "Order Statistics:\n",
      "Total Products Ordered: 10\n",
      "Percentage of Unique Products Ordered: 40.00%\n",
      "\n",
      "Updated Inventory:\n",
      "t-shirt: 0\n",
      "mug: 5\n",
      "hat: -8\n",
      "book: 7\n",
      "keychain: 6\n",
      "\n",
      "Total Price: $44.00\n"
     ]
    }
   ],
   "source": [
    "def main():\n",
    "    products = ['t-shirt', 'mug', 'hat', 'book', 'keychain']\n",
    "\n",
    "    inventory = initialize_inventory(products)\n",
    "\n",
    "    customer_orders = get_customer_orders(inventory)\n",
    "\n",
    "    total_products_ordered = sum([quantity for _, quantity, _ in customer_orders])\n",
    "    unique_products_ordered = set([product for product, _, _ in customer_orders])\n",
    "    percentage_unique = (len(unique_products_ordered) / len(products)) * 100\n",
    "\n",
    "    print(\"Order Statistics:\")\n",
    "    print(f\"Total Products Ordered: {total_products_ordered}\")\n",
    "    print(f\"Percentage of Unique Products Ordered: {percentage_unique:.2f}%\")\n",
    "\n",
    "    inventory = update_inventory(inventory, customer_orders)\n",
    "\n",
    "    print(\"\\nUpdated Inventory:\")\n",
    "    for product, qty in inventory.items():\n",
    "        print(f\"{product}: {qty}\")\n",
    "\n",
    "    total_price = calculate_total_price(customer_orders)\n",
    "    print(f\"\\nTotal Price: ${total_price:.2f}\")\n",
    "\n",
    "if __name__ == \"__main__\":\n",
    "    main()"
   ]
  },
  {
   "cell_type": "code",
   "execution_count": null,
   "id": "74d6e31a-df84-473d-8ae8-fed89c3979fa",
   "metadata": {},
   "outputs": [],
   "source": []
  }
 ],
 "metadata": {
  "kernelspec": {
   "display_name": "Python 3 (ipykernel)",
   "language": "python",
   "name": "python3"
  },
  "language_info": {
   "codemirror_mode": {
    "name": "ipython",
    "version": 3
   },
   "file_extension": ".py",
   "mimetype": "text/x-python",
   "name": "python",
   "nbconvert_exporter": "python",
   "pygments_lexer": "ipython3",
   "version": "3.12.7"
  }
 },
 "nbformat": 4,
 "nbformat_minor": 5
}
